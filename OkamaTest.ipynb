{
 "cells": [
  {
   "cell_type": "code",
   "execution_count": 1,
   "id": "9d83ef84-99ab-4d0a-8a39-2d5d3ad6654b",
   "metadata": {},
   "outputs": [],
   "source": [
    "import okama as ok"
   ]
  },
  {
   "cell_type": "code",
   "execution_count": 4,
   "id": "4aec66e5-4d57-4d4e-a3ef-89f7c1ecc846",
   "metadata": {},
   "outputs": [
    {
     "data": {
      "text/html": [
       "<div>\n",
       "<style scoped>\n",
       "    .dataframe tbody tr th:only-of-type {\n",
       "        vertical-align: middle;\n",
       "    }\n",
       "\n",
       "    .dataframe tbody tr th {\n",
       "        vertical-align: top;\n",
       "    }\n",
       "\n",
       "    .dataframe thead th {\n",
       "        text-align: right;\n",
       "    }\n",
       "</style>\n",
       "<table border=\"1\" class=\"dataframe\">\n",
       "  <thead>\n",
       "    <tr style=\"text-align: right;\">\n",
       "      <th></th>\n",
       "      <th>symbol</th>\n",
       "      <th>ticker</th>\n",
       "      <th>name</th>\n",
       "      <th>country</th>\n",
       "      <th>exchange</th>\n",
       "      <th>currency</th>\n",
       "      <th>type</th>\n",
       "      <th>isin</th>\n",
       "    </tr>\n",
       "  </thead>\n",
       "  <tbody>\n",
       "    <tr>\n",
       "      <th>0</th>\n",
       "      <td>LKOD.LSE</td>\n",
       "      <td>LKOD</td>\n",
       "      <td>PJSC LUKOIL</td>\n",
       "      <td>UK</td>\n",
       "      <td>LSE</td>\n",
       "      <td>GBP</td>\n",
       "      <td>Common Stock</td>\n",
       "      <td></td>\n",
       "    </tr>\n",
       "    <tr>\n",
       "      <th>1</th>\n",
       "      <td>LKOH.LSE</td>\n",
       "      <td>LKOH</td>\n",
       "      <td>PJSC LUKOIL</td>\n",
       "      <td>UK</td>\n",
       "      <td>LSE</td>\n",
       "      <td>USD</td>\n",
       "      <td>Common Stock</td>\n",
       "      <td>RU0009024277</td>\n",
       "    </tr>\n",
       "    <tr>\n",
       "      <th>2</th>\n",
       "      <td>LKOH.MOEX</td>\n",
       "      <td>LKOH</td>\n",
       "      <td>PJSC LUKOIL</td>\n",
       "      <td>Russia</td>\n",
       "      <td>MOEX</td>\n",
       "      <td>RUB</td>\n",
       "      <td>Common Stock</td>\n",
       "      <td>RU0009024277</td>\n",
       "    </tr>\n",
       "    <tr>\n",
       "      <th>3</th>\n",
       "      <td>LKOH.MCX</td>\n",
       "      <td>LKOH</td>\n",
       "      <td>PJSC LUKOIL</td>\n",
       "      <td>Russia</td>\n",
       "      <td>MCX</td>\n",
       "      <td>RUB</td>\n",
       "      <td>Common Stock</td>\n",
       "      <td>RU0009024277</td>\n",
       "    </tr>\n",
       "    <tr>\n",
       "      <th>4</th>\n",
       "      <td>LUK.XFRA</td>\n",
       "      <td>LUK</td>\n",
       "      <td>PJSC LUKOIL</td>\n",
       "      <td>Germany</td>\n",
       "      <td>XFRA</td>\n",
       "      <td>EUR</td>\n",
       "      <td>Common Stock</td>\n",
       "      <td></td>\n",
       "    </tr>\n",
       "    <tr>\n",
       "      <th>5</th>\n",
       "      <td>LUKOY.US</td>\n",
       "      <td>LUKOY</td>\n",
       "      <td>PJSC LUKOIL</td>\n",
       "      <td>USA</td>\n",
       "      <td>PINK</td>\n",
       "      <td>USD</td>\n",
       "      <td>Common Stock</td>\n",
       "      <td>US6778621044</td>\n",
       "    </tr>\n",
       "  </tbody>\n",
       "</table>\n",
       "</div>"
      ],
      "text/plain": [
       "      symbol ticker         name  country exchange currency          type  \\\n",
       "0   LKOD.LSE   LKOD  PJSC LUKOIL       UK      LSE      GBP  Common Stock   \n",
       "1   LKOH.LSE   LKOH  PJSC LUKOIL       UK      LSE      USD  Common Stock   \n",
       "2  LKOH.MOEX   LKOH  PJSC LUKOIL   Russia     MOEX      RUB  Common Stock   \n",
       "3   LKOH.MCX   LKOH  PJSC LUKOIL   Russia      MCX      RUB  Common Stock   \n",
       "4   LUK.XFRA    LUK  PJSC LUKOIL  Germany     XFRA      EUR  Common Stock   \n",
       "5   LUKOY.US  LUKOY  PJSC LUKOIL      USA     PINK      USD  Common Stock   \n",
       "\n",
       "           isin  \n",
       "0                \n",
       "1  RU0009024277  \n",
       "2  RU0009024277  \n",
       "3  RU0009024277  \n",
       "4                \n",
       "5  US6778621044  "
      ]
     },
     "execution_count": 4,
     "metadata": {},
     "output_type": "execute_result"
    }
   ],
   "source": [
    "ok.search(\"lukoil\")"
   ]
  },
  {
   "cell_type": "code",
   "execution_count": 18,
   "id": "be8e1b26-8723-471e-9116-bc4ca5885737",
   "metadata": {},
   "outputs": [],
   "source": [
    "stocks = [\"BABA.US\", \"AYX.US\", \"FOLD.US\", \"BMY.US\", \"MCD.US\", \"SRPT.US\", \"LRN.US\", \"TAL.US\", \"VTBR.MOEX\", \"GAZP.MOEX\", \"SBER.MOEX\"]"
   ]
  },
  {
   "cell_type": "code",
   "execution_count": null,
   "id": "325bf6ce-9b1f-47b2-ba70-d90d572e1e2e",
   "metadata": {},
   "outputs": [],
   "source": []
  }
 ],
 "metadata": {
  "interpreter": {
   "hash": "65d85465e403f29d7080a27ac1ad1df08d45631ae1fd55932b676c78e2b9b649"
  },
  "kernelspec": {
   "display_name": "Python 3.10.1 64-bit (system)",
   "name": "python3"
  },
  "language_info": {
   "codemirror_mode": {
    "name": "ipython",
    "version": 3
   },
   "file_extension": ".py",
   "mimetype": "text/x-python",
   "name": "python",
   "nbconvert_exporter": "python",
   "pygments_lexer": "ipython3",
   "version": "3.10.1"
  }
 },
 "nbformat": 4,
 "nbformat_minor": 5
}
